{
 "cells": [
  {
   "cell_type": "code",
   "execution_count": 1,
   "metadata": {},
   "outputs": [],
   "source": [
    "#!/usr/bin/python\n",
    "# -*- coding: utf-8 -*-\n",
    "from __future__ import print_function\n",
    "#................................................................................\n",
    "# Add libPython\\.. into PYTHONPATH if in unit test\n",
    "#................................................................................\n",
    "import sys\n",
    "import os\n",
    "import winshell\n",
    "from datetime import datetime\n",
    "import shutil"
   ]
  },
  {
   "cell_type": "markdown",
   "metadata": {},
   "source": [
    "尋找目錄下所有.iso/.cue, 新建一個同名的.txt檔案。\n",
    "接下來.iso/.cue就可以改名爲英文了，因爲RetroArch的PS2不支援multi-byte檔名"
   ]
  },
  {
   "cell_type": "code",
   "execution_count": 1,
   "metadata": {},
   "outputs": [
    {
     "name": "stdout",
     "output_type": "stream",
     "text": [
      "created：C:\\APN\\MNEMOSYNE\\NDK-Data\\DB_GAME_遊戲鏡像\\MY_ROM\\2000_PS2\\ATV Offroad Fury 4 - ATV沙灘機車賽 (USA).iso.txt\n",
      "created：C:\\APN\\MNEMOSYNE\\NDK-Data\\DB_GAME_遊戲鏡像\\MY_ROM\\2000_PS2\\Digital Devil Saga 2 數位惡魔傳說 2 (USA).iso.txt\n",
      "created：C:\\APN\\MNEMOSYNE\\NDK-Data\\DB_GAME_遊戲鏡像\\MY_ROM\\2000_PS2\\Dororo - 多囉囉 (CHT).iso.txt\n",
      "created：C:\\APN\\MNEMOSYNE\\NDK-Data\\DB_GAME_遊戲鏡像\\MY_ROM\\2000_PS2\\DragonBall Z - Budokai Tenkaichi 3 - 七龍珠 Z - 天下一武道會 3 (USA).iso.txt\n",
      "created：C:\\APN\\MNEMOSYNE\\NDK-Data\\DB_GAME_遊戲鏡像\\MY_ROM\\2000_PS2\\Dynasty Warriors 6 - 真三國無雙 6 (USA).iso.txt\n",
      "created：C:\\APN\\MNEMOSYNE\\NDK-Data\\DB_GAME_遊戲鏡像\\MY_ROM\\2000_PS2\\Final Fantasy XII - 最終幻想 XII (USA).iso.txt\n",
      "created：C:\\APN\\MNEMOSYNE\\NDK-Data\\DB_GAME_遊戲鏡像\\MY_ROM\\2000_PS2\\God of War - 戰神.iso.txt\n",
      "created：C:\\APN\\MNEMOSYNE\\NDK-Data\\DB_GAME_遊戲鏡像\\MY_ROM\\2000_PS2\\God of War II - 戰神 II.iso.txt\n",
      "created：C:\\APN\\MNEMOSYNE\\NDK-Data\\DB_GAME_遊戲鏡像\\MY_ROM\\2000_PS2\\Godzilla-Save the Earth - 哥斯拉-拯救地球 (EUR).iso.txt\n",
      "created：C:\\APN\\MNEMOSYNE\\NDK-Data\\DB_GAME_遊戲鏡像\\MY_ROM\\2000_PS2\\Gradius V 宇宙巡航機 V.iso.txt\n",
      "created：C:\\APN\\MNEMOSYNE\\NDK-Data\\DB_GAME_遊戲鏡像\\MY_ROM\\2000_PS2\\Gran Turismo 4 - 跑車浪漫旅 4 (USA).iso.txt\n",
      "created：C:\\APN\\MNEMOSYNE\\NDK-Data\\DB_GAME_遊戲鏡像\\MY_ROM\\2000_PS2\\Metal Gear Solid 3 Snake Eater - 潛龍諜影 3 食蛇者 (USA).iso.txt\n",
      "created：C:\\APN\\MNEMOSYNE\\NDK-Data\\DB_GAME_遊戲鏡像\\MY_ROM\\2000_PS2\\Playboy-The Mansion - 花花公子 名模派對 (USA).iso.txt\n",
      "created：C:\\APN\\MNEMOSYNE\\NDK-Data\\DB_GAME_遊戲鏡像\\MY_ROM\\2000_PS2\\R-Type Final (USA).iso.txt\n",
      "created：C:\\APN\\MNEMOSYNE\\NDK-Data\\DB_GAME_遊戲鏡像\\MY_ROM\\2000_PS2\\Raiden 3 雷電 3.iso.txt\n",
      "created：C:\\APN\\MNEMOSYNE\\NDK-Data\\DB_GAME_遊戲鏡像\\MY_ROM\\2000_PS2\\Ridge Racer 5 實感賽車 5 (USA).iso.txt\n",
      "created：C:\\APN\\MNEMOSYNE\\NDK-Data\\DB_GAME_遊戲鏡像\\MY_ROM\\2000_PS2\\Rumble Roses -  火爆玫瑰 (USA).iso.txt\n",
      "created：C:\\APN\\MNEMOSYNE\\NDK-Data\\DB_GAME_遊戲鏡像\\MY_ROM\\2000_PS2\\Saint Seiya - Meiou Hades Juunikyuu Hen - 聖鬥士星矢 冥王黑帝斯十二宮篇 (JAP).iso.txt\n",
      "created：C:\\APN\\MNEMOSYNE\\NDK-Data\\DB_GAME_遊戲鏡像\\MY_ROM\\2000_PS2\\Saint Seiya - The Sanctuary - 聖鬥士星矢 聖域十二宮篇 (EUR).iso.txt\n",
      "created：C:\\APN\\MNEMOSYNE\\NDK-Data\\DB_GAME_遊戲鏡像\\MY_ROM\\2000_PS2\\Saint Seiya - The Sanctuary - 聖鬥士星矢 聖域十二宮篇 (JAP).iso.txt\n",
      "created：C:\\APN\\MNEMOSYNE\\NDK-Data\\DB_GAME_遊戲鏡像\\MY_ROM\\2000_PS2\\Samurai Spirits - Tenkaichi 侍魂 - 天下第一劍客傳.iso.txt\n",
      "created：C:\\APN\\MNEMOSYNE\\NDK-Data\\DB_GAME_遊戲鏡像\\MY_ROM\\2000_PS2\\SD Gundam GGeneration Spirits - G-Spirits (JAP).iso.txt\n",
      "created：C:\\APN\\MNEMOSYNE\\NDK-Data\\DB_GAME_遊戲鏡像\\MY_ROM\\2000_PS2\\Soulcalibur III - 劍魂 3 (USA).iso.txt\n",
      "created：C:\\APN\\MNEMOSYNE\\NDK-Data\\DB_GAME_遊戲鏡像\\MY_ROM\\2000_PS2\\Space Channel 5 Part 2 - 太空頻道 5 Part2.iso.txt\n",
      "created：C:\\APN\\MNEMOSYNE\\NDK-Data\\DB_GAME_遊戲鏡像\\MY_ROM\\2000_PS2\\Space Channel 5 太空頻道 5 (USA).iso.txt\n",
      "created：C:\\APN\\MNEMOSYNE\\NDK-Data\\DB_GAME_遊戲鏡像\\MY_ROM\\2000_PS2\\Street Fighter EX3 - 快打旋風EX3 (USA).cue.txt\n",
      "created：C:\\APN\\MNEMOSYNE\\NDK-Data\\DB_GAME_遊戲鏡像\\MY_ROM\\2000_PS2\\Tenchu - Fatal Shadows 天誅 - 致命陰影.iso.txt\n",
      "created：C:\\APN\\MNEMOSYNE\\NDK-Data\\DB_GAME_遊戲鏡像\\MY_ROM\\2000_PS2\\Tourist Trophy 摩托浪漫旅 (CHT).iso.txt\n"
     ]
    }
   ],
   "source": [
    "import os\n",
    "\n",
    "def create_file_list_txt(target_dir):\n",
    "    if not os.path.exists(target_dir):\n",
    "        print(f\"dirctory not exist：{target_dir}\")\n",
    "        return\n",
    "    file_list = [f for f in os.listdir(target_dir) if f.endswith(('.iso', '.cue'))]\n",
    "\n",
    "    for file_name in file_list:\n",
    "        txt_file_path = os.path.join(target_dir, os.path.basename(file_name) + \".txt\")\n",
    "        with open(txt_file_path, 'w') as txt_file:\n",
    "            txt_file.write(file_name + '\\n')\n",
    "        print(f\"created：{txt_file_path}\")\n",
    "\n",
    "target_directory = r\"C:\\APN\\MNEMOSYNE\\NDK-Data\\DB_GAME_遊戲鏡像\\MY_ROM\\2000_PS2\"\n",
    "\n",
    "create_file_list_txt(target_directory)\n"
   ]
  }
 ],
 "metadata": {
  "kernelspec": {
   "display_name": "Python 3",
   "language": "python",
   "name": "python3"
  },
  "language_info": {
   "codemirror_mode": {
    "name": "ipython",
    "version": 3
   },
   "file_extension": ".py",
   "mimetype": "text/x-python",
   "name": "python",
   "nbconvert_exporter": "python",
   "pygments_lexer": "ipython3",
   "version": "3.10.10"
  }
 },
 "nbformat": 4,
 "nbformat_minor": 2
}
