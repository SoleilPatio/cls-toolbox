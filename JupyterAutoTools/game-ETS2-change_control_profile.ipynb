{
 "cells": [
  {
   "cell_type": "code",
   "execution_count": 57,
   "metadata": {},
   "outputs": [],
   "source": [
    "#!/usr/bin/python\n",
    "# -*- coding: utf-8 -*-\n",
    "from __future__ import print_function\n",
    "#................................................................................\n",
    "# Add libPython\\.. into PYTHONPATH if in unit test\n",
    "#................................................................................\n",
    "import sys\n",
    "import os\n",
    "import winshell\n",
    "from datetime import datetime\n",
    "import shutil"
   ]
  },
  {
   "cell_type": "code",
   "execution_count": 58,
   "metadata": {},
   "outputs": [
    {
     "name": "stdout",
     "output_type": "stream",
     "text": [
      "documents_dir=C:\\Users\\cloud\\Documents\n",
      "ets2_user_dir=C:\\Users\\cloud\\Documents\\Euro Truck Simulator 2\n",
      "backup_dir=C:\\Users\\cloud\\Documents\\Euro Truck Simulator 2\\My KEYCFG Backup\\backup_20231105-2127\n",
      "gampad_dir=C:\\Users\\cloud\\Documents\\Euro Truck Simulator 2\\My KEYCFG Backup\\KEYCFG_Gamepad\n",
      "steering_dir=C:\\Users\\cloud\\Documents\\Euro Truck Simulator 2\\My KEYCFG Backup\\KEYCFG_Steering\n",
      "keycfg_files_org=['C:\\\\Users\\\\cloud\\\\Documents\\\\Euro Truck Simulator 2\\\\steam_profiles\\\\56696F6C65742048756E746572\\\\config_local.cfg', 'C:\\\\Users\\\\cloud\\\\Documents\\\\Euro Truck Simulator 2\\\\steam_profiles\\\\56696F6C65742048756E746572\\\\controls.sii']\n",
      "keycfg_dir=C:\\Users\\cloud\\Documents\\Euro Truck Simulator 2\\steam_profiles\\56696F6C65742048756E746572\n"
     ]
    }
   ],
   "source": [
    "ETS2_DIRNAME = 'Euro Truck Simulator 2'\n",
    "KEYCFG_FILES = [\"config_local.cfg\", \"controls.sii\"]\n",
    "BACKUP_DIRNAME = 'My KEYCFG Backup'\n",
    "GAMPAD_DIRNAME = 'KEYCFG_Gamepad'\n",
    "STEERING_DIRNAME = 'KEYCFG_Steering'\n",
    "\n",
    "\n",
    "documents_dir = winshell.my_documents()\n",
    "print(f'documents_dir={documents_dir}')\n",
    "ets2_user_dir = os.path.join(documents_dir, ETS2_DIRNAME)\n",
    "print(f'ets2_user_dir={ets2_user_dir}')\n",
    "timestamp = datetime.now().strftime(\"%Y%m%d-%H%M\")\n",
    "# print(f'timestamp={timestamp}')\n",
    "backup_dir = os.path.join(ets2_user_dir, BACKUP_DIRNAME, 'backup_' + timestamp)\n",
    "print(f'backup_dir={backup_dir}')\n",
    "gampad_dir = os.path.join(ets2_user_dir, BACKUP_DIRNAME, GAMPAD_DIRNAME)\n",
    "print(f'gampad_dir={gampad_dir}')\n",
    "steering_dir = os.path.join(ets2_user_dir, BACKUP_DIRNAME, STEERING_DIRNAME)\n",
    "print(f'steering_dir={steering_dir}')\n",
    "\n",
    "#...................................\n",
    "# find original key config files (to backup)\n",
    "#...................................\n",
    "keycfg_files_org = []\n",
    "start_directory = os.path.join(ets2_user_dir, 'steam_profiles')\n",
    "for root, dirs, files in os.walk(start_directory):\n",
    "    for file_name in KEYCFG_FILES:\n",
    "        if file_name in files:\n",
    "            file_path = os.path.join(root, file_name)\n",
    "            keycfg_files_org.append(file_path)\n",
    "\n",
    "keycfg_dir = os.path.dirname(keycfg_files_org[0])\n",
    "print(f'keycfg_files_org={keycfg_files_org}')\n",
    "print(f'keycfg_dir={keycfg_dir}')\n",
    "\n",
    "\n",
    "\n"
   ]
  },
  {
   "cell_type": "code",
   "execution_count": 59,
   "metadata": {},
   "outputs": [
    {
     "name": "stdout",
     "output_type": "stream",
     "text": [
      "請輸入:\n",
      "input:1 - 備份\n",
      "backup config_local.cfg ->\"C:\\Users\\cloud\\Documents\\Euro Truck Simulator 2\\My KEYCFG Backup\\backup_20231105-2127\"\n",
      "backup controls.sii ->\"C:\\Users\\cloud\\Documents\\Euro Truck Simulator 2\\My KEYCFG Backup\\backup_20231105-2127\"\n"
     ]
    }
   ],
   "source": [
    "def task_backup():\n",
    "    os.makedirs(backup_dir, exist_ok=True)\n",
    "    for file in keycfg_files_org:\n",
    "        shutil.copy(file, backup_dir)\n",
    "        print(f'backup {os.path.basename(file)} ->\"{backup_dir}\"')\n",
    "    return\n",
    "\n",
    "def task_restore(profile_dirname):\n",
    "    src_files = [os.path.join(ets2_user_dir, BACKUP_DIRNAME, profile_dirname, file) for file in KEYCFG_FILES]\n",
    "    for file in src_files:\n",
    "        shutil.copy(file, keycfg_dir)\n",
    "        print(f'{profile_dirname} : overwrite  {os.path.basename(file)} ->\"{keycfg_dir}\"')\n",
    "    return\n",
    "\n",
    "\n",
    "\n",
    "print(\"請輸入:\")\n",
    "user_choice = input(\"Input (1.backup / 2.搖桿 / 3.方向盤): \")\n",
    "\n",
    "if user_choice == \"1\":\n",
    "    print(f'input:{user_choice} - 備份')\n",
    "    task_backup()\n",
    "elif user_choice == \"2\":\n",
    "    print(f'input:{user_choice} - 搖桿')\n",
    "    task_restore(GAMPAD_DIRNAME)\n",
    "elif user_choice == \"3\":\n",
    "    print(f'input:{user_choice} - 方向盤')\n",
    "    task_restore(STEERING_DIRNAME)\n",
    "else:\n",
    "    print(\"無效輸入\")\n"
   ]
  }
 ],
 "metadata": {
  "kernelspec": {
   "display_name": "Python 3",
   "language": "python",
   "name": "python3"
  },
  "language_info": {
   "codemirror_mode": {
    "name": "ipython",
    "version": 3
   },
   "file_extension": ".py",
   "mimetype": "text/x-python",
   "name": "python",
   "nbconvert_exporter": "python",
   "pygments_lexer": "ipython3",
   "version": "3.10.10"
  }
 },
 "nbformat": 4,
 "nbformat_minor": 2
}
