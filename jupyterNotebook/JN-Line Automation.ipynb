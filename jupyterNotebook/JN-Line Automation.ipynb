{
 "cells": [
  {
   "cell_type": "code",
   "execution_count": 1,
   "metadata": {},
   "outputs": [
    {
     "name": "stdout",
     "output_type": "stream",
     "text": [
      "Done\n"
     ]
    }
   ],
   "source": [
    "#!/usr/bin/python\n",
    "# -*- coding: utf-8 -*-\n",
    "from __future__ import print_function\n",
    "#................................................................................\n",
    "# Add libPython\\.. into PYTHONPATH\n",
    "import sys\n",
    "sys.path.append(r'..')\n",
    "#................................................................................\n",
    "import libPython.core.util as util\n",
    "import libPython.core.util_ex as util_ex\n",
    "\n",
    "\n",
    "if __name__ == \"__main__\":\n",
    "    print('Done')"
   ]
  },
  {
   "cell_type": "markdown",
   "metadata": {},
   "source": [
    "line notify: https://ithelp.ithome.com.tw/articles/10234877"
   ]
  },
  {
   "cell_type": "code",
   "execution_count": 3,
   "metadata": {},
   "outputs": [
    {
     "name": "stdout",
     "output_type": "stream",
     "text": [
      "200\n"
     ]
    }
   ],
   "source": [
    "import requests\n",
    "from pathlib import Path\n",
    "\n",
    "def lineNotifyMessage(token, msg):\n",
    "\n",
    "    headers = {\n",
    "        \"Authorization\": \"Bearer \" + token, \n",
    "        \"Content-Type\" : \"application/x-www-form-urlencoded\"\n",
    "    }\n",
    "\n",
    "    payload = {\n",
    "        'message': msg,\n",
    "        'stickerPackageId': 11539,\n",
    "        'stickerId':52114146\n",
    "    }\n",
    "    r = requests.post(\"https://notify-api.line.me/api/notify\", headers = headers, params = payload)\n",
    "    return r.status_code\n",
    "\n",
    "\n",
    "if __name__ == \"__main__\":\n",
    "    token = Path(r\"C:\\Users\\cloud\\GoogleDrive\\MyPrivy\\憑證\\LINE\\clouds_to_YunTin.com.token.txt\").read_text()\n",
    "    message = '我是可以傳貼圖！並隱藏權杖'\n",
    "    ret=lineNotifyMessage(token, message)\n",
    "    print(ret)"
   ]
  }
 ],
 "metadata": {
  "interpreter": {
   "hash": "03ad6049ce5c3dfaab6edaa45028ebbe90f9a158d5b9c6ce1826b3e2a83f9137"
  },
  "kernelspec": {
   "display_name": "Python 3.8.6 64-bit (system)",
   "language": "python",
   "name": "python3"
  },
  "language_info": {
   "codemirror_mode": {
    "name": "ipython",
    "version": 3
   },
   "file_extension": ".py",
   "mimetype": "text/x-python",
   "name": "python",
   "nbconvert_exporter": "python",
   "pygments_lexer": "ipython3",
   "version": "3.8.6"
  },
  "orig_nbformat": 4
 },
 "nbformat": 4,
 "nbformat_minor": 2
}
