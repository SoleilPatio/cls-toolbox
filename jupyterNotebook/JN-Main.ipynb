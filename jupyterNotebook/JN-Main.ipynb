{
 "cells": [
  {
   "cell_type": "markdown",
   "metadata": {},
   "source": [
    "[Initial Environment]"
   ]
  },
  {
   "cell_type": "code",
   "execution_count": 1,
   "metadata": {},
   "outputs": [],
   "source": [
    "# -*- coding: utf-8 -*-\n",
    "from __future__ import print_function\n",
    "import sys\n",
    "import os\n",
    "sys.path.append(os.path.join(\"..\"))\n",
    "import libPython.core.util"
   ]
  },
  {
   "cell_type": "code",
   "execution_count": 1,
   "metadata": {},
   "outputs": [
    {
     "name": "stderr",
     "output_type": "stream",
     "text": [
      "2021-12-16 20:44:40 [INFO] <ipython-input-1-f5c87b5c617d>.<module>():8 this is message\n"
     ]
    }
   ],
   "source": [
    "import logging\n",
    "logging.basicConfig( \n",
    "        level=logging.DEBUG,\n",
    "        # level=logging.INFO,\n",
    "        format='%(asctime)s [%(levelname)s] %(module)s.%(funcName)s():%(lineno)d %(message)s',\n",
    "        datefmt='%Y-%m-%d %H:%M:%S'\n",
    "        )\n",
    "logging.info(\"this is message\")"
   ]
  },
  {
   "cell_type": "code",
   "execution_count": 4,
   "metadata": {},
   "outputs": [
    {
     "name": "stderr",
     "output_type": "stream",
     "text": [
      "this is message\n"
     ]
    }
   ],
   "source": [
    "import logging\n",
    "\n",
    "logging.basicConfig( \n",
    "        level=logging.DEBUG,\n",
    "        # level=logging.INFO,\n",
    "        format=None,\n",
    "        datefmt=None\n",
    "        )\n",
    "logging.info(\"this is message\")"
   ]
  },
  {
   "cell_type": "code",
   "execution_count": 15,
   "metadata": {},
   "outputs": [
    {
     "name": "stdout",
     "output_type": "stream",
     "text": [
      "[9, 9, 1, 2, 4, 4, 5]\n",
      "{1, 2, 4, 5, 9}\n",
      "9\n"
     ]
    }
   ],
   "source": [
    "l = [ 9,9,1,2,4,4,5]\n",
    "print(l)\n",
    "s=set(l)\n",
    "print(s)\n",
    "l2=list(s)\n",
    "print(l2[-1])"
   ]
  },
  {
   "cell_type": "code",
   "execution_count": 2,
   "metadata": {},
   "outputs": [],
   "source": [
    "from FinMind.data import DataLoader\n",
    "\n",
    "api = DataLoader()\n",
    "# api.login_by_token(api_token='token')\n",
    "# api.login(user_id='user_id',password='password')\n",
    "df = api.taiwan_daily_short_sale_balances(\n",
    "    stock_id=\"2330\",\n",
    "    start_date='2020-04-01',\n",
    "    end_date='2020-04-12'\n",
    ")"
   ]
  },
  {
   "cell_type": "code",
   "execution_count": 7,
   "metadata": {},
   "outputs": [
    {
     "ename": "ModuleNotFoundError",
     "evalue": "No module named 'finlab'",
     "output_type": "error",
     "traceback": [
      "\u001b[1;31m---------------------------------------------------------------------------\u001b[0m",
      "\u001b[1;31mModuleNotFoundError\u001b[0m                       Traceback (most recent call last)",
      "\u001b[1;32m<ipython-input-7-61008a180f62>\u001b[0m in \u001b[0;36m<module>\u001b[1;34m\u001b[0m\n\u001b[1;32m----> 1\u001b[1;33m \u001b[1;32mfrom\u001b[0m \u001b[0mfinlab\u001b[0m \u001b[1;32mimport\u001b[0m \u001b[0mdata\u001b[0m\u001b[1;33m\u001b[0m\u001b[1;33m\u001b[0m\u001b[0m\n\u001b[0m\u001b[0;32m      2\u001b[0m \u001b[0mdata\u001b[0m\u001b[1;33m.\u001b[0m\u001b[0mget\u001b[0m\u001b[1;33m(\u001b[0m\u001b[1;34m'price:收盤價'\u001b[0m\u001b[1;33m)\u001b[0m\u001b[1;33m\u001b[0m\u001b[1;33m\u001b[0m\u001b[0m\n",
      "\u001b[1;31mModuleNotFoundError\u001b[0m: No module named 'finlab'"
     ]
    }
   ],
   "source": [
    "from finlab import data\n",
    "data.get('price:收盤價')"
   ]
  },
  {
   "cell_type": "code",
   "execution_count": 25,
   "metadata": {},
   "outputs": [
    {
     "name": "stdout",
     "output_type": "stream",
     "text": [
      "(387.386832, [('sched_wakeup:comm', 'met-cmd'), ('sched_wakeup:pid', '6840'), ('sched_wakeup:prio', '120'), ('sched_wakeup:success', '1'), ('sched_wakeup:target_cpu', '005'), ('sched_wakeup:state', 'R')])\n"
     ]
    }
   ],
   "source": [
    "import dateutil.parser\n",
    "import re\n",
    "\n",
    "# line = r\"[2022-03-12 19:00:37.955] GTM: temp = 24106, cur freq = 214000 KHz, ttj = 95000, bless=1.1 god-12.22\"\n",
    "# line = r\"[2022-03-12 19:00:37.955] temp = 24106, cur freq = 214000 KHz, ttj = 95000, bless=1.1 god=12.22\"\n",
    "line = r\" <idle>-0 [005] 387.386832: sched_wakeup: comm=met-cmd pid=6840 prio=120 success=1 target_cpu=005 state=R\"\n",
    "\n",
    "\n",
    "def parse_keyvalue_pairs(line):\n",
    "    ret_keyvalue = []\n",
    "    # key_value_list = re.findall(r\"\\w+\\s*=\\s*[^, ]+\",line)\n",
    "    key_value_list = re.findall(r\"[^,=:\\[\\]]+\\s*=\\s*[^, ]+\", line)\n",
    "    for pair in key_value_list:\n",
    "        idx = pair.find(\"=\")\n",
    "        key = pair[:idx].strip()\n",
    "        value = pair[idx+1:].strip()\n",
    "        ret_keyvalue.append((key, value))\n",
    "    return ret_keyvalue\n",
    "\n",
    "def parse_ftrace_keyvalue_pairs(line):\n",
    "    ret_ts = None\n",
    "    ret_keyval = []\n",
    "    m = re.match(r\".*\\[\\d+\\]\\s*([\\d.]+):\\s*(\\S*):\\s*(.*)\", line)\n",
    "    if not m:\n",
    "        return None\n",
    "    ret_ts = float(m.group(1))\n",
    "    trace_name = m.group(2)\n",
    "    key_value_str = m.group(3)\n",
    "    ret_keyval = parse_keyvalue_pairs(key_value_str)\n",
    "    ret_keyval = [ (trace_name + \":\" + p[0], p[1]) for p in ret_keyval] \n",
    "    return (ret_ts, ret_keyval)\n",
    "\n",
    "def parse_teraterm_keyvalue_pairs(line):\n",
    "    ret_ts = None\n",
    "    ret_keyval = []\n",
    "    m = re.match(r\"\\s*\\[(.+)\\]\\s*(([\\S^:]+):)?(.*)\", line)\n",
    "    if not m:\n",
    "        return None\n",
    "    ret_ts = dateutil.parser.parse (m.group(1), fuzzy=True).timestamp()\n",
    "    trace_name = m.group(3)\n",
    "    key_value_str = m.group(4)\n",
    "    ret_keyval = parse_keyvalue_pairs(key_value_str)\n",
    "    if trace_name:\n",
    "        ret_keyval = [ (trace_name + \":\" + p[0], p[1]) for p in ret_keyval]\n",
    "    return (ret_ts, ret_keyval)\n",
    "\n",
    "def ParsekeyValue(line):\n",
    "    line = line.strip()\n",
    "    if line.startswith(\"[\"):\n",
    "        return parse_teraterm_keyvalue_pairs(line)\n",
    "    else:\n",
    "        return parse_ftrace_keyvalue_pairs(line)\n",
    "\n",
    "\n",
    "# print(parse_ftrace_keyvalue_pairs(line))\n",
    "print(ParsekeyValue(line))"
   ]
  },
  {
   "cell_type": "code",
   "execution_count": 3,
   "metadata": {},
   "outputs": [
    {
     "ename": "ModuleNotFoundError",
     "evalue": "No module named 'libPython.core.generic_parser'",
     "output_type": "error",
     "traceback": [
      "\u001b[1;31m---------------------------------------------------------------------------\u001b[0m",
      "\u001b[1;31mModuleNotFoundError\u001b[0m                       Traceback (most recent call last)",
      "\u001b[1;32m<ipython-input-3-ee0e3120d9b3>\u001b[0m in \u001b[0;36m<module>\u001b[1;34m\u001b[0m\n\u001b[1;32m----> 1\u001b[1;33m \u001b[1;32mimport\u001b[0m \u001b[0mlibPython\u001b[0m\u001b[1;33m.\u001b[0m\u001b[0mcore\u001b[0m\u001b[1;33m.\u001b[0m\u001b[0mgeneric_parser\u001b[0m \u001b[1;32mas\u001b[0m \u001b[0mgeneric_parser\u001b[0m\u001b[1;33m\u001b[0m\u001b[1;33m\u001b[0m\u001b[0m\n\u001b[0m\u001b[0;32m      2\u001b[0m \u001b[1;31m# line = r\"[2022-03-12 19:00:37.955] GTM: temp = 24106, cur freq = 214000 KHz, ttj = 95000, bless=1.1 god-12.22\"\u001b[0m\u001b[1;33m\u001b[0m\u001b[1;33m\u001b[0m\u001b[1;33m\u001b[0m\u001b[0m\n\u001b[0;32m      3\u001b[0m \u001b[1;31m# line = r\"[2022-03-12 19:00:37.955] temp = 24106, cur freq = 214000 KHz, ttj = 95000, bless=1.1 god=12.22\"\u001b[0m\u001b[1;33m\u001b[0m\u001b[1;33m\u001b[0m\u001b[1;33m\u001b[0m\u001b[0m\n\u001b[0;32m      4\u001b[0m \u001b[0mline\u001b[0m \u001b[1;33m=\u001b[0m \u001b[1;34mr\" <idle>-0 [005] 387.386832: sched wakeup: comm=met-cmd pid=6840 prio=120 success=1 target_cpu=005 state=R\"\u001b[0m\u001b[1;33m\u001b[0m\u001b[1;33m\u001b[0m\u001b[0m\n\u001b[0;32m      5\u001b[0m \u001b[1;31m# print(parse_ftrace_keyvalue_pairs(line))\u001b[0m\u001b[1;33m\u001b[0m\u001b[1;33m\u001b[0m\u001b[1;33m\u001b[0m\u001b[0m\n",
      "\u001b[1;31mModuleNotFoundError\u001b[0m: No module named 'libPython.core.generic_parser'"
     ]
    }
   ],
   "source": [
    "\n",
    "import libPython.core.generic_parser as generic_parser\n",
    "# line = r\"[2022-03-12 19:00:37.955] GTM: temp = 24106, cur freq = 214000 KHz, ttj = 95000, bless=1.1 god-12.22\"\n",
    "# line = r\"[2022-03-12 19:00:37.955] temp = 24106, cur freq = 214000 KHz, ttj = 95000, bless=1.1 god=12.22\"\n",
    "line = r\" <idle>-0 [005] 387.386832: sched wakeup: comm=met-cmd pid=6840 prio=120 success=1 target_cpu=005 state=R\"\n",
    "# print(parse_ftrace_keyvalue_pairs(line))\n",
    "# print(parse_teraterm_keyvalue_pairs(line))\n",
    "print(generic_parser.Parsekeyvalue(line))"
   ]
  }
 ],
 "metadata": {
  "interpreter": {
   "hash": "03ad6049ce5c3dfaab6edaa45028ebbe90f9a158d5b9c6ce1826b3e2a83f9137"
  },
  "kernelspec": {
   "display_name": "Python 3.8.6 64-bit",
   "name": "python3"
  },
  "language_info": {
   "codemirror_mode": {
    "name": "ipython",
    "version": 3
   },
   "file_extension": ".py",
   "mimetype": "text/x-python",
   "name": "python",
   "nbconvert_exporter": "python",
   "pygments_lexer": "ipython3",
   "version": "3.8.6"
  },
  "metadata": {
   "interpreter": {
    "hash": "03ad6049ce5c3dfaab6edaa45028ebbe90f9a158d5b9c6ce1826b3e2a83f9137"
   }
  },
  "orig_nbformat": 2
 },
 "nbformat": 4,
 "nbformat_minor": 2
}
