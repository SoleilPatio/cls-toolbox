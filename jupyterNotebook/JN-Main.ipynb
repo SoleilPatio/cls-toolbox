{
 "cells": [
  {
   "cell_type": "code",
   "execution_count": 1,
   "metadata": {},
   "outputs": [
    {
     "name": "stderr",
     "output_type": "stream",
     "text": [
      "2021-12-16 20:44:40 [INFO] <ipython-input-1-f5c87b5c617d>.<module>():8 this is message\n"
     ]
    }
   ],
   "source": [
    "import logging\n",
    "logging.basicConfig( \n",
    "        level=logging.DEBUG,\n",
    "        # level=logging.INFO,\n",
    "        format='%(asctime)s [%(levelname)s] %(module)s.%(funcName)s():%(lineno)d %(message)s',\n",
    "        datefmt='%Y-%m-%d %H:%M:%S'\n",
    "        )\n",
    "logging.info(\"this is message\")"
   ]
  },
  {
   "cell_type": "code",
   "execution_count": 4,
   "metadata": {},
   "outputs": [
    {
     "name": "stderr",
     "output_type": "stream",
     "text": [
      "this is message\n"
     ]
    }
   ],
   "source": [
    "import logging\n",
    "\n",
    "logging.basicConfig( \n",
    "        level=logging.DEBUG,\n",
    "        # level=logging.INFO,\n",
    "        format=None,\n",
    "        datefmt=None\n",
    "        )\n",
    "logging.info(\"this is message\")"
   ]
  },
  {
   "cell_type": "code",
   "execution_count": 15,
   "metadata": {},
   "outputs": [
    {
     "name": "stdout",
     "output_type": "stream",
     "text": [
      "[9, 9, 1, 2, 4, 4, 5]\n",
      "{1, 2, 4, 5, 9}\n",
      "9\n"
     ]
    }
   ],
   "source": [
    "l = [ 9,9,1,2,4,4,5]\n",
    "print(l)\n",
    "s=set(l)\n",
    "print(s)\n",
    "l2=list(s)\n",
    "print(l2[-1])"
   ]
  }
 ],
 "metadata": {
  "interpreter": {
   "hash": "03ad6049ce5c3dfaab6edaa45028ebbe90f9a158d5b9c6ce1826b3e2a83f9137"
  },
  "kernelspec": {
   "display_name": "Python 3.8.6 64-bit",
   "name": "python3"
  },
  "language_info": {
   "codemirror_mode": {
    "name": "ipython",
    "version": 3
   },
   "file_extension": ".py",
   "mimetype": "text/x-python",
   "name": "python",
   "nbconvert_exporter": "python",
   "pygments_lexer": "ipython3",
   "version": "3.8.6"
  },
  "metadata": {
   "interpreter": {
    "hash": "03ad6049ce5c3dfaab6edaa45028ebbe90f9a158d5b9c6ce1826b3e2a83f9137"
   }
  },
  "orig_nbformat": 2
 },
 "nbformat": 4,
 "nbformat_minor": 2
}
