{
 "cells": [
  {
   "cell_type": "markdown",
   "metadata": {},
   "source": [
    "[Initial Environment]"
   ]
  },
  {
   "cell_type": "code",
   "execution_count": 1,
   "metadata": {},
   "outputs": [],
   "source": [
    "# -*- coding: utf-8 -*-\n",
    "from __future__ import print_function\n",
    "import sys\n",
    "import os\n",
    "sys.path.append(os.path.join(\"..\"))\n",
    "import libPython.core.util"
   ]
  },
  {
   "cell_type": "code",
   "execution_count": 1,
   "metadata": {},
   "outputs": [
    {
     "name": "stderr",
     "output_type": "stream",
     "text": [
      "2021-12-16 20:44:40 [INFO] <ipython-input-1-f5c87b5c617d>.<module>():8 this is message\n"
     ]
    }
   ],
   "source": [
    "import logging\n",
    "logging.basicConfig( \n",
    "        level=logging.DEBUG,\n",
    "        # level=logging.INFO,\n",
    "        format='%(asctime)s [%(levelname)s] %(module)s.%(funcName)s():%(lineno)d %(message)s',\n",
    "        datefmt='%Y-%m-%d %H:%M:%S'\n",
    "        )\n",
    "logging.info(\"this is message\")"
   ]
  },
  {
   "cell_type": "code",
   "execution_count": 4,
   "metadata": {},
   "outputs": [
    {
     "name": "stderr",
     "output_type": "stream",
     "text": [
      "this is message\n"
     ]
    }
   ],
   "source": [
    "import logging\n",
    "\n",
    "logging.basicConfig( \n",
    "        level=logging.DEBUG,\n",
    "        # level=logging.INFO,\n",
    "        format=None,\n",
    "        datefmt=None\n",
    "        )\n",
    "logging.info(\"this is message\")"
   ]
  },
  {
   "cell_type": "code",
   "execution_count": 15,
   "metadata": {},
   "outputs": [
    {
     "name": "stdout",
     "output_type": "stream",
     "text": [
      "[9, 9, 1, 2, 4, 4, 5]\n",
      "{1, 2, 4, 5, 9}\n",
      "9\n"
     ]
    }
   ],
   "source": [
    "l = [ 9,9,1,2,4,4,5]\n",
    "print(l)\n",
    "s=set(l)\n",
    "print(s)\n",
    "l2=list(s)\n",
    "print(l2[-1])"
   ]
  },
  {
   "cell_type": "code",
   "execution_count": 2,
   "metadata": {},
   "outputs": [],
   "source": [
    "from FinMind.data import DataLoader\n",
    "\n",
    "api = DataLoader()\n",
    "# api.login_by_token(api_token='token')\n",
    "# api.login(user_id='user_id',password='password')\n",
    "df = api.taiwan_daily_short_sale_balances(\n",
    "    stock_id=\"2330\",\n",
    "    start_date='2020-04-01',\n",
    "    end_date='2020-04-12'\n",
    ")"
   ]
  },
  {
   "cell_type": "code",
   "execution_count": null,
   "metadata": {},
   "outputs": [],
   "source": [
    "from finlab import data\n",
    "data.get('price:收盤價')"
   ]
  },
  {
   "cell_type": "code",
   "execution_count": 18,
   "metadata": {},
   "outputs": [
    {
     "data": {
      "text/plain": [
       "True"
      ]
     },
     "execution_count": 18,
     "metadata": {},
     "output_type": "execute_result"
    }
   ],
   "source": [
    "s = \"ABCD:123213:ssd (SMA-255)\"\n",
    "# s = 'aabbcc-abc-aabbcc'\n",
    "\n",
    "s.endswith(\"(SMA-255)\")"
   ]
  }
 ],
 "metadata": {
  "kernelspec": {
   "display_name": "Python 3.8.6 64-bit (system)",
   "language": "python",
   "name": "python3"
  },
  "language_info": {
   "codemirror_mode": {
    "name": "ipython",
    "version": 3
   },
   "file_extension": ".py",
   "mimetype": "text/x-python",
   "name": "python",
   "nbconvert_exporter": "python",
   "pygments_lexer": "ipython3",
   "version": "3.8.6 (tags/v3.8.6:db45529, Sep 23 2020, 15:52:53) [MSC v.1927 64 bit (AMD64)]"
  },
  "metadata": {
   "interpreter": {
    "hash": "03ad6049ce5c3dfaab6edaa45028ebbe90f9a158d5b9c6ce1826b3e2a83f9137"
   }
  },
  "orig_nbformat": 2,
  "vscode": {
   "interpreter": {
    "hash": "9f319e7f24551c8f3419f2f467028e84298b173d064f415f52b73e38aba54ab1"
   }
  }
 },
 "nbformat": 4,
 "nbformat_minor": 2
}
