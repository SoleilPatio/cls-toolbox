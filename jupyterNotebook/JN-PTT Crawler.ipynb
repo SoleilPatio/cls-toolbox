{
 "cells": [
  {
   "cell_type": "code",
   "execution_count": 1,
   "metadata": {},
   "outputs": [
    {
     "name": "stdout",
     "output_type": "stream",
     "text": [
      "Done\n"
     ]
    }
   ],
   "source": [
    "#!/usr/bin/python\n",
    "# -*- coding: utf-8 -*-\n",
    "from __future__ import print_function\n",
    "#................................................................................\n",
    "# Add libPython\\.. into PYTHONPATH\n",
    "import sys\n",
    "sys.path.append(r'..')\n",
    "#................................................................................\n",
    "import libPython.core.util as util\n",
    "import libPython.core.util_ex as util_ex\n",
    "\n",
    "\n",
    "if __name__ == \"__main__\":\n",
    "    print('Done')"
   ]
  },
  {
   "cell_type": "markdown",
   "metadata": {},
   "source": [
    " Day 25 : 用 Python 擷取 PTT 、 匯率及熱門迷因圖實作 https://ithelp.ithome.com.tw/articles/10240191"
   ]
  },
  {
   "cell_type": "code",
   "execution_count": 7,
   "metadata": {},
   "outputs": [
    {
     "name": "stdout",
     "output_type": "stream",
     "text": [
      "[<div class=\"title\">\n",
      "<a href=\"/bbs/joke/M.1649467536.A.7F3.html\">[猜謎] 2022天龍國選舉結果</a>\n",
      "</div>, <div class=\"title\">\n",
      "<a href=\"/bbs/joke/M.1649474923.A.F5E.html\">[趣圖] 有趣分享集（4-9）</a>\n",
      "</div>, <div class=\"title\">\n",
      "<a href=\"/bbs/joke/M.1649477075.A.C60.html\">[耍冷] 推特上夯什麼 Part.777</a>\n",
      "</div>, <div class=\"title\">\n",
      "<a href=\"/bbs/joke/M.1649482454.A.FF3.html\">[猜謎] 為什麼國王弄丟東西都不回頭找</a>\n",
      "</div>, <div class=\"title\">\n",
      "<a href=\"/bbs/joke/M.1649484741.A.E1A.html\">[趣事] 為啥打槍手要放口袋</a>\n",
      "</div>, <div class=\"title\">\n",
      "<a href=\"/bbs/joke/M.1649486768.A.597.html\">[地獄] 張淑晶牢飯吃不完！</a>\n",
      "</div>, <div class=\"title\">\n",
      "<a href=\"/bbs/joke/M.1602005687.A.E4D.html\">[公告] 就可板規</a>\n",
      "</div>, <div class=\"title\">\n",
      "<a href=\"/bbs/joke/M.1606831943.A.1BB.html\">[閒聊] 置底閒聊文</a>\n",
      "</div>, <div class=\"title\">\n",
      "<a href=\"/bbs/joke/M.1623640717.A.813.html\">[公告] 發、推文提醒</a>\n",
      "</div>]\n",
      "[<a href=\"/bbs/joke/M.1649467536.A.7F3.html\">[猜謎] 2022天龍國選舉結果</a>, <a href=\"/bbs/joke/M.1649474923.A.F5E.html\">[趣圖] 有趣分享集（4-9）</a>, <a href=\"/bbs/joke/M.1649477075.A.C60.html\">[耍冷] 推特上夯什麼 Part.777</a>, <a href=\"/bbs/joke/M.1649482454.A.FF3.html\">[猜謎] 為什麼國王弄丟東西都不回頭找</a>, <a href=\"/bbs/joke/M.1649484741.A.E1A.html\">[趣事] 為啥打槍手要放口袋</a>, <a href=\"/bbs/joke/M.1649486768.A.597.html\">[地獄] 張淑晶牢飯吃不完！</a>, <a href=\"/bbs/joke/M.1602005687.A.E4D.html\">[公告] 就可板規</a>, <a href=\"/bbs/joke/M.1606831943.A.1BB.html\">[閒聊] 置底閒聊文</a>, <a href=\"/bbs/joke/M.1623640717.A.813.html\">[公告] 發、推文提醒</a>]\n",
      "title: [猜謎] 2022天龍國選舉結果\n",
      "href: https://www.ptt.cc/bbs/joke/M.1649467536.A.7F3.html\n",
      "title: [趣圖] 有趣分享集（4-9）\n",
      "href: https://www.ptt.cc/bbs/joke/M.1649474923.A.F5E.html\n",
      "title: [耍冷] 推特上夯什麼 Part.777\n",
      "href: https://www.ptt.cc/bbs/joke/M.1649477075.A.C60.html\n",
      "title: [猜謎] 為什麼國王弄丟東西都不回頭找\n",
      "href: https://www.ptt.cc/bbs/joke/M.1649482454.A.FF3.html\n",
      "title: [趣事] 為啥打槍手要放口袋\n",
      "href: https://www.ptt.cc/bbs/joke/M.1649484741.A.E1A.html\n",
      "title: [地獄] 張淑晶牢飯吃不完！\n",
      "href: https://www.ptt.cc/bbs/joke/M.1649486768.A.597.html\n",
      "title: [公告] 就可板規\n",
      "href: https://www.ptt.cc/bbs/joke/M.1602005687.A.E4D.html\n",
      "title: [閒聊] 置底閒聊文\n",
      "href: https://www.ptt.cc/bbs/joke/M.1606831943.A.1BB.html\n",
      "title: [公告] 發、推文提醒\n",
      "href: https://www.ptt.cc/bbs/joke/M.1623640717.A.813.html\n"
     ]
    }
   ],
   "source": [
    "import requests\n",
    "from bs4 import BeautifulSoup\n",
    "\n",
    "res = requests.get('https://www.ptt.cc/bbs/joke/index.html')\n",
    "soup = BeautifulSoup(res.text ,\"lxml\")\n",
    "# print(res.text[:500])\n",
    "results = soup.select(\"div.title\")\n",
    "print(results)\n",
    "article_href = soup.select(\"div.title a\")\n",
    "print(article_href)\n",
    "for a in article_href:\n",
    "  print('title:', a.text)\n",
    "  print('href:','https://www.ptt.cc'+a['href'])"
   ]
  }
 ],
 "metadata": {
  "interpreter": {
   "hash": "03ad6049ce5c3dfaab6edaa45028ebbe90f9a158d5b9c6ce1826b3e2a83f9137"
  },
  "kernelspec": {
   "display_name": "Python 3.8.6 64-bit (system)",
   "language": "python",
   "name": "python3"
  },
  "language_info": {
   "codemirror_mode": {
    "name": "ipython",
    "version": 3
   },
   "file_extension": ".py",
   "mimetype": "text/x-python",
   "name": "python",
   "nbconvert_exporter": "python",
   "pygments_lexer": "ipython3",
   "version": "3.8.6"
  },
  "orig_nbformat": 4
 },
 "nbformat": 4,
 "nbformat_minor": 2
}
