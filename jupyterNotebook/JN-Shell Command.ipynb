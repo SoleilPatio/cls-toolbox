{
 "cells": [
  {
   "cell_type": "markdown",
   "metadata": {},
   "source": [
    "build-in magic commadn: https://ipython.readthedocs.io/en/stable/interactive/magics.html"
   ]
  },
  {
   "cell_type": "code",
   "execution_count": null,
   "metadata": {},
   "outputs": [],
   "source": [
    "# case1:\n",
    "!ls\n",
    "#case2:\n",
    "result=!ls\n",
    "print(f\"result={result}\")\n"
   ]
  },
  {
   "cell_type": "code",
   "execution_count": 48,
   "metadata": {},
   "outputs": [
    {
     "name": "stdout",
     "output_type": "stream",
     "text": [
      "Hello, I can pass variable to shell\n",
      "Hello, I can pass variable to shell\n"
     ]
    }
   ],
   "source": [
    "message=\"Hello, I can pass variable to shell\"\n",
    "\n",
    "!echo {message}\n",
    "!echo $message"
   ]
  },
  {
   "cell_type": "code",
   "execution_count": 1,
   "metadata": {},
   "outputs": [
    {
     "name": "stdout",
     "output_type": "stream",
     "text": [
      "c:\\Users\\cloud\\OneDrive\\BIN\\cls-toolbox\\jupyterNotebook\n",
      "c:\\Users\\cloud\\OneDrive\\BIN\\cls-toolbox\\jupyterNotebook\n",
      "remember cwd=['c:\\\\Users\\\\cloud\\\\OneDrive\\\\BIN\\\\cls-toolbox\\\\jupyterNotebook']\n",
      "c:\\Windows\n",
      "c:\\Windows\n",
      "back to previous directory\n",
      "c:\\Users\\cloud\\OneDrive\\BIN\\cls-toolbox\\jupyterNotebook\n",
      "c:\\Users\\cloud\\OneDrive\\BIN\\cls-toolbox\\jupyterNotebook\n"
     ]
    }
   ],
   "source": [
    "# 每個!都是一個subshell，所以無法改變目錄\n",
    "!cd\n",
    "!cd ..\n",
    "!cd\n",
    "cwd=!cd\n",
    "print(f\"remember cwd={cwd}\")\n",
    "\n",
    "#要這樣才能改變目錄\n",
    "%cd c:\\Windows\n",
    "!cd\n",
    "print(\"back to previous directory\")\n",
    "%cd {cwd[0]}\n",
    "!cd\n"
   ]
  },
  {
   "cell_type": "code",
   "execution_count": 56,
   "metadata": {},
   "outputs": [
    {
     "name": "stdout",
     "output_type": "stream",
     "text": [
      "c:\\Users\\cloud\\OneDrive\\BIN\\cls-toolbox\\jupyterNotebook\n",
      "c:\\Windows\n",
      "c:\\Windows\n",
      "%dirs=\n",
      "%popd=\n",
      "c:\\Users\\cloud\\OneDrive\\BIN\\cls-toolbox\\jupyterNotebook\n",
      "popd -> c:\\Users\\cloud\\OneDrive\\BIN\\cls-toolbox\\jupyterNotebook\n",
      "cwd=\n",
      "c:\\Users\\cloud\\OneDrive\\BIN\\cls-toolbox\\jupyterNotebook\n"
     ]
    }
   ],
   "source": [
    "# 這樣也可以change 目錄\n",
    "!cd \n",
    "%pushd c:\\Windows \n",
    "!cd \n",
    "print(\"%dirs=\")\n",
    "%dirs\n",
    "print(\"%popd=\")\n",
    "%popd\n",
    "print(\"cwd=\")\n",
    "!cd"
   ]
  },
  {
   "cell_type": "code",
   "execution_count": 47,
   "metadata": {},
   "outputs": [
    {
     "name": "stdout",
     "output_type": "stream",
     "text": [
      "cloud\n",
      "env: TEST=12345678 ABC\n",
      "12345678 ABC\n"
     ]
    }
   ],
   "source": [
    "!echo %USERNAME%\n",
    "\n",
    "\n",
    "#要這樣設定環境變數\n",
    "%env  TEST=12345678 ABC\n",
    "!echo %TEST%"
   ]
  },
  {
   "cell_type": "code",
   "execution_count": 68,
   "metadata": {},
   "outputs": [
    {
     "name": "stdout",
     "output_type": "stream",
     "text": [
      "return status of unknown command = 1\n"
     ]
    },
    {
     "name": "stderr",
     "output_type": "stream",
     "text": [
      "'unknown' ���O�����Υ~���R�O�B�i���檺�{���Χ妸�ɡC\n"
     ]
    },
    {
     "name": "stdout",
     "output_type": "stream",
     "text": [
      " �Ϻа� C �����ϺЬO SYSTEM\n",
      " �ϺаϧǸ�:  7293-8819\n",
      "\n",
      " c:\\Users\\cloud\\OneDrive\\BIN\\cls-toolbox\\jupyterNotebook ���ؿ�\n",
      "\n",
      "2022/03/24  22:25    <DIR>          .\n",
      "2022/03/24  22:25    <DIR>          ..\n",
      "2022/03/24  22:24             4,610 JN-Main.ipynb\n",
      "2022/02/15  21:55             3,484 JN-MatPlotLib.ipynb\n",
      "2022/03/20  22:40            78,820 JN-Pandas.ipynb\n",
      "2022/03/20  22:40            39,479 JN-Plotly.ipynb\n",
      "2022/03/24  23:10             5,479 JN-Shell Command.ipynb\n",
      "2022/03/15  22:27             6,377 JN-Util.ipynb\n",
      "2022/03/18  00:15                36 out-pandas_data.csv\n",
      "2022/03/18  00:14         3,671,637 out-plotly_figure.html\n",
      "2022/03/18  00:15         3,678,143 out-plotly_result.html\n",
      "2022/03/02  20:01                 0 out-�����ɦW\n",
      "2022/03/16  13:01    <DIR>          __pycache__\n",
      "              10 ���ɮ�       7,488,065 �줸��\n",
      "               3 �ӥؿ�  203,374,125,056 �줸�եi��\n",
      "return status of dir = 0\n"
     ]
    }
   ],
   "source": [
    "# _exit_code : 保存上一個shell命令的返回值\n",
    "\n",
    "!unknown command\n",
    "print(f\"return status of unknown command = {_exit_code}\")\n",
    "!dir\n",
    "print(f\"return status of dir = {_exit_code}\")"
   ]
  },
  {
   "cell_type": "code",
   "execution_count": 78,
   "metadata": {},
   "outputs": [
    {
     "name": "stdout",
     "output_type": "stream",
     "text": [
      "no action\n"
     ]
    }
   ],
   "source": [
    "# if-else 執行 shell command\n",
    "condition = False\n",
    "\n",
    "if condition:\n",
    "    !ls \n",
    "else:\n",
    "    !echo no action"
   ]
  },
  {
   "cell_type": "code",
   "execution_count": 75,
   "metadata": {},
   "outputs": [
    {
     "data": {
      "text/plain": [
       "0"
      ]
     },
     "execution_count": 75,
     "metadata": {},
     "output_type": "execute_result"
    }
   ],
   "source": [
    "# 簡單的用os.system, 但是沒有output\n",
    "import os\n",
    "result = os.system(\"dir\")\n",
    "result"
   ]
  }
 ],
 "metadata": {
  "interpreter": {
   "hash": "03ad6049ce5c3dfaab6edaa45028ebbe90f9a158d5b9c6ce1826b3e2a83f9137"
  },
  "kernelspec": {
   "display_name": "Python 3.8.6 64-bit (system)",
   "language": "python",
   "name": "python3"
  },
  "language_info": {
   "codemirror_mode": {
    "name": "ipython",
    "version": 3
   },
   "file_extension": ".py",
   "mimetype": "text/x-python",
   "name": "python",
   "nbconvert_exporter": "python",
   "pygments_lexer": "ipython3",
   "version": "3.8.6"
  },
  "orig_nbformat": 4
 },
 "nbformat": 4,
 "nbformat_minor": 2
}
