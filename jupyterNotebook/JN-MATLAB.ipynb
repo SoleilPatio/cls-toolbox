{
 "cells": [
  {
   "cell_type": "markdown",
   "metadata": {},
   "source": [
    "[Initial Environment]"
   ]
  },
  {
   "cell_type": "code",
   "execution_count": null,
   "metadata": {},
   "outputs": [],
   "source": [
    "# -*- coding: utf-8 -*-\n",
    "from __future__ import print_function\n",
    "import sys\n",
    "import os\n",
    "sys.path.append(os.path.join(\"..\", \"..\"))\n",
    "import libPython.core.util"
   ]
  },
  {
   "cell_type": "markdown",
   "metadata": {},
   "source": [
    "[Plot Function]"
   ]
  },
  {
   "cell_type": "code",
   "execution_count": null,
   "metadata": {},
   "outputs": [],
   "source": [
    "import matplotlib.pyplot as plt\n",
    "import numpy as np\n",
    "plt.figure(figsize=(8,8))\n",
    "\n",
    "x = np.linspace(0,1,100)\n",
    "# y = 2*x+1\n",
    "y = (3*x-1)/(8*x-3)\n",
    "plt.plot(x, y, \"-r\", label='1st line')\n",
    "y=x*0+2/5\n",
    "plt.plot(x,y, \".g\", label='2nd line')\n",
    "y=x*0+1/3\n",
    "plt.plot(x,y, \"xb\", label='3rd line')\n",
    "\n",
    "\n",
    "plt.title('Graph Template')\n",
    "plt.xlabel('x', color='#1C2833')\n",
    "plt.ylabel('y', color='#1C2833')\n",
    "plt.legend(loc='upper left')\n",
    "plt.xticks(np.arange(0, 1.1, 0.05))\n",
    "plt.yticks(np.arange(-1,1.1, 0.05))\n",
    "plt.axis([0, 1, 0, 1])\n",
    "plt.grid()\n",
    "plt.show()"
   ]
  },
  {
   "cell_type": "markdown",
   "metadata": {},
   "source": [
    "[Pandas Read Excel]"
   ]
  },
  {
   "cell_type": "code",
   "execution_count": null,
   "metadata": {},
   "outputs": [],
   "source": [
    "import pandas as pd\n",
    "xlsx_file = \"C:\\\\Users\\\\cloud\\\\GoogleDrive\\\\MyDOC-G\\\\family folder - 家庭目錄\\\\real estate 房地產.xlsx\"\n",
    "\n",
    "# return \"DataFrame\", which is like a whole excel (with title fields)\n",
    "WS = pd.read_excel(xlsx_file,\n",
    "                    sheet_name=\"物件試算\", \n",
    "                    header=0, #header field index. default = 0\n",
    "                    # usecols=[\"建案\",\"總價\",\"主+陽\"], #column to use\n",
    "                    )\n",
    "# numpy array (without title fields)\n",
    "WS_np = np.array(WS)\n",
    "\n",
    "total = WS_np[:,2]"
   ]
  },
  {
   "cell_type": "code",
   "execution_count": null,
   "metadata": {},
   "outputs": [],
   "source": [
    "import matplotlib.pyplot as plt\n",
    "import numpy as np\n",
    "plt.figure(figsize=(8,8))\n",
    "\n",
    "\n",
    "y = total*total\n",
    "plt.plot(y, \"xb\", label='3rd line')\n",
    "\n",
    "\n",
    "# plt.title('Graph Template')\n",
    "# plt.xlabel('x', color='#1C2833')\n",
    "# plt.ylabel('y', color='#1C2833')\n",
    "# plt.legend(loc='upper left')\n",
    "# plt.xticks(np.arange(0, 1.1, 0.05))\n",
    "# plt.yticks(np.arange(-1,1.1, 0.05))\n",
    "# plt.axis([0, 1, 0, 1])\n",
    "plt.grid()\n",
    "plt.show()"
   ]
  }
 ],
 "metadata": {
  "interpreter": {
   "hash": "03ad6049ce5c3dfaab6edaa45028ebbe90f9a158d5b9c6ce1826b3e2a83f9137"
  },
  "kernelspec": {
   "display_name": "Python 3.8.6 64-bit (system)",
   "language": "python",
   "name": "python3"
  },
  "language_info": {
   "codemirror_mode": {
    "name": "ipython",
    "version": 3
   },
   "file_extension": ".py",
   "mimetype": "text/x-python",
   "name": "python",
   "nbconvert_exporter": "python",
   "pygments_lexer": "ipython3",
   "version": "3.8.6"
  },
  "orig_nbformat": 4
 },
 "nbformat": 4,
 "nbformat_minor": 2
}
