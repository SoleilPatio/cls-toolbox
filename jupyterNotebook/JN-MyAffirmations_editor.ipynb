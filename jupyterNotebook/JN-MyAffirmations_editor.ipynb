{
 "cells": [
  {
   "cell_type": "markdown",
   "metadata": {},
   "source": [
    "- google drive\n",
    "  - \"C:\\APN\\DATA\\GoogleDrive\\My Affirmations\\affirmationBackup.zip\"\n",
    "\n",
    "- apk (no use)\n",
    "  - Package [com.ascent.affirmations.myaffirmations] (7fa3df6):\n",
    "  - path: /data/app/~~gDMvcg3lHuJP4JHcWh8b0A==/com.ascent.affirmations.myaffirmations-aGQtuh7Kps40L_Q50kCWYA==/base.apk\n"
   ]
  },
  {
   "cell_type": "markdown",
   "metadata": {},
   "source": [
    "Python code:\n",
    "1. 給定一個zip檔案: ex. path/affirmationBackup.zip\n",
    "2. 將 path/affirmationBackup.zip 複製到工作目錄, 工作目錄設定成: 當下目錄下的 ./out_Myaffermation/230709 加上日期代碼\n",
    "3. 將工作目錄的 path/affirmationBackup.zip 揭開壓縮\n",
    "4. 編輯(刪除record)後，重新壓縮\n",
    "5. 手動蓋過google drive上的affirmationBackup.zip\n",
    "6. 手機上restore後，需要跳出程式，再進入，更動才會生效 （不確定)\n",
    "\n",
    "失敗==>自己包的zip, restore似乎會失敗"
   ]
  },
  {
   "cell_type": "code",
   "execution_count": 19,
   "metadata": {},
   "outputs": [],
   "source": [
    "#!/usr/bin/python\n",
    "# -*- coding: utf-8 -*-\n",
    "from __future__ import print_function\n",
    "import os\n",
    "import shutil\n",
    "import zipfile\n",
    "import sqlite3\n",
    "import subprocess\n",
    "from datetime import datetime\n"
   ]
  },
  {
   "cell_type": "markdown",
   "metadata": {},
   "source": [
    "### [Functions]"
   ]
  },
  {
   "cell_type": "code",
   "execution_count": 20,
   "metadata": {},
   "outputs": [],
   "source": [
    "\"\"\"\n",
    "========================================================\n",
    "Functions\n",
    "========================================================\n",
    "\"\"\"\n",
    "def afftbl_show_all(db_file_path):\n",
    "    # 连接到数据库\n",
    "    conn = sqlite3.connect(db_file_path)\n",
    "    cursor = conn.cursor()\n",
    "\n",
    "    # 执行查询操作\n",
    "    query = \"SELECT * FROM AFFIRMATION;\"\n",
    "    cursor.execute(query)\n",
    "\n",
    "    # 获取所有记录\n",
    "    records = cursor.fetchall()\n",
    "\n",
    "    # 输出记录\n",
    "    for record in records:\n",
    "        print(record)\n",
    "\n",
    "    # 关闭连接\n",
    "    conn.close()\n",
    "\n",
    "def afftbl_find(db_file_path, search_string):\n",
    "    # 连接到数据库\n",
    "    conn = sqlite3.connect(db_file_path)\n",
    "    cursor = conn.cursor()\n",
    "\n",
    "    # 搜索特定字符串并获取匹配记录的索引\n",
    "    query = f\"SELECT * FROM AFFIRMATION WHERE affirmation LIKE '%{search_string}%';\"\n",
    "    cursor.execute(query)\n",
    "    matching_rows = cursor.fetchall()\n",
    "\n",
    "    for row in matching_rows:\n",
    "        print(row)\n",
    "\n",
    "    conn.close()\n",
    "    match_row_ids = [row[0] for row in matching_rows]\n",
    "    return match_row_ids\n",
    "\n",
    "\n",
    "def afftbl_delete(db_file_path, row_ids):\n",
    "    # 连接到数据库\n",
    "    conn = sqlite3.connect(db_file_path)\n",
    "    cursor = conn.cursor()\n",
    "\n",
    "    # 删除匹配的记录\n",
    "    for row in row_ids:\n",
    "        print(f\"delete row id: {row}\")\n",
    "        delete_query = f\"DELETE FROM AFFIRMATION WHERE rowid = {row};\"\n",
    "        cursor.execute(delete_query)\n",
    "\n",
    "    # 提交更改并关闭连接\n",
    "    conn.commit()\n",
    "    conn.close()\n"
   ]
  },
  {
   "cell_type": "code",
   "execution_count": 21,
   "metadata": {},
   "outputs": [],
   "source": [
    "def compress_to_zip(source_dir, zip_path):\n",
    "    # 压缩文件夹为zip，仅包含当前层级的目录名称\n",
    "    current_dir = os.path.basename(source_dir)\n",
    "    with zipfile.ZipFile(zip_path, 'w', zipfile.ZIP_DEFLATED) as zip_ref:\n",
    "        for root, dirs, files in os.walk(source_dir):\n",
    "            for file in files:\n",
    "                file_path = os.path.join(root, file)\n",
    "                rel_path = os.path.relpath(file_path, source_dir)\n",
    "                arcname = os.path.join(current_dir, rel_path)\n",
    "                zip_ref.write(file_path, arcname=arcname)\n",
    "\n",
    "def open_directory(directory):\n",
    "    # 使用explorer打开目录\n",
    "    subprocess.run([\"explorer\", directory])\n",
    "\n"
   ]
  },
  {
   "cell_type": "markdown",
   "metadata": {},
   "source": [
    "### [Config]"
   ]
  },
  {
   "cell_type": "code",
   "execution_count": 25,
   "metadata": {},
   "outputs": [
    {
     "name": "stdout",
     "output_type": "stream",
     "text": [
      "src_zip_file    = 'C:\\APN\\DATA\\GoogleDrive\\affirmationBackup.zip'\n",
      "work_directory  = 'c:\\APN\\DATA\\OneDrive\\BIN\\cls-toolbox\\jupyterNotebook\\out-Myaffermations\\20230709_1746'\n",
      "dest_zip_file   = 'c:\\APN\\DATA\\OneDrive\\BIN\\cls-toolbox\\jupyterNotebook\\out-Myaffermations\\20230709_1746\\affirmationBackup-org.zip'\n",
      "db_file_path    = 'c:\\APN\\DATA\\OneDrive\\BIN\\cls-toolbox\\jupyterNotebook\\out-Myaffermations\\20230709_1746\\My Affirmations\\backup\\affirmationDB.mab'\n",
      "target_zip_file = 'c:\\APN\\DATA\\OneDrive\\BIN\\cls-toolbox\\jupyterNotebook\\out-Myaffermations\\20230709_1746\\affirmationBackup.zip'\n"
     ]
    }
   ],
   "source": [
    "\"\"\"\n",
    "-----------------------------------------------\n",
    "Config Setting\n",
    "-----------------------------------------------\n",
    "\"\"\"\n",
    "# src_zip_file = r\"C:\\APN\\DATA\\GoogleDrive\\My Affirmations\\affirmationBackup.zip\"\n",
    "src_zip_file = r\"C:\\APN\\DATA\\GoogleDrive\\affirmationBackup.zip\"\n",
    "_current_datetime = datetime.now().strftime(\"%Y%m%d_%H%M\")\n",
    "work_directory = os.path.join(os.getcwd(), \"out-Myaffermations\", _current_datetime)\n",
    "_fname, _fext = os.path.splitext(os.path.basename(src_zip_file))\n",
    "dest_zip_file = os.path.join(work_directory, _fname + \"-org\" + _fext)\n",
    "db_file_path = os.path.join(work_directory, \"My Affirmations\",\"backup\",\"affirmationDB.mab\")\n",
    "target_zip_file = os.path.join(work_directory, _fname + _fext)\n",
    "\n",
    "\n",
    "print(f\"src_zip_file    = '{src_zip_file}'\")\n",
    "print(f\"work_directory  = '{work_directory}'\")\n",
    "print(f\"dest_zip_file   = '{dest_zip_file}'\")\n",
    "print(f\"db_file_path    = '{db_file_path}'\")\n",
    "print(f\"target_zip_file = '{target_zip_file}'\")"
   ]
  },
  {
   "cell_type": "markdown",
   "metadata": {},
   "source": [
    "### [Execute]"
   ]
  },
  {
   "cell_type": "code",
   "execution_count": 26,
   "metadata": {},
   "outputs": [
    {
     "name": "stdout",
     "output_type": "stream",
     "text": [
      "uncompress: at f'c:\\APN\\DATA\\OneDrive\\BIN\\cls-toolbox\\jupyterNotebook\\out-Myaffermations\\20230709_1746'\n"
     ]
    }
   ],
   "source": [
    "\"\"\"\n",
    "-----------------------------------------------\n",
    "uncompress\n",
    "-----------------------------------------------\n",
    "\"\"\"\n",
    "os.makedirs(work_directory, exist_ok=True)\n",
    "shutil.copyfile(src_zip_file, dest_zip_file)\n",
    "with zipfile.ZipFile(dest_zip_file, \"r\") as zip_ref:\n",
    "    zip_ref.extractall(work_directory)\n",
    "\n",
    "print(f\"uncompress: at f'{work_directory}'\")"
   ]
  },
  {
   "cell_type": "code",
   "execution_count": 28,
   "metadata": {},
   "outputs": [
    {
     "name": "stdout",
     "output_type": "stream",
     "text": [
      "search_string: 社交\n",
      "(244, '書摘', '社交媒體應該是一個平台，幫助你看到所愛之人的生活，而不是讓你去嫉妒別人。讓我們與喜樂的人同樂。讓我們培養感恩的心。', 1, None, 244, 17, '', '', None)\n",
      "(245, '書摘', '你真正應該害怕的是錯過你身邊的人。當你緊盯著手機或平板電腦的時候，這就是你正在錯過的。你可能會錯過你孩子的成長過程。你可能會錯過享受一段親密的婚姻。你可能會錯過充滿意義的深厚友誼。你老是害怕錯過（社交媒體上的）某件事，結果可能會讓你錯過真正最重要的事。', 1, None, 245, 18, '', '', None)\n",
      "(843, '處事原則', '社交高手聊天術：\\r\\n1. 別說「我也是」。 這種「我也是」的回答，是在告訴對方「這件事情沒什麼特別的」，，要問好玩嗎?\\r\\n2. 別只單純地回答別人的問題, 回答沒有的同時, 延續問對方: 那好玩嗎？\\r\\n3. 將對方說的話延展成新話題, 不要只說是噢，要說，我聽說那裏人都很好是真的嗎？延續新的話題\\r\\n4.  不要問是非題，要問申論題。不要問你一定很高興吧？要問那你是什麼心情？\\r\\n5.  順着對方問題提出反問，不要回答我們也是，可以反問那你都會怎麽解決？', 1, None, 843, 843, '', '', None)\n",
      "match_row_ids = [244, 245, 843]\n",
      "請輸入欲刪除的id(用逗號隔開,Enter表示输入完成):\n",
      "todel_row_ids: \n",
      "todel_row_ids: \n",
      "Table after delete:\n",
      "(244, '書摘', '社交媒體應該是一個平台，幫助你看到所愛之人的生活，而不是讓你去嫉妒別人。讓我們與喜樂的人同樂。讓我們培養感恩的心。', 1, None, 244, 17, '', '', None)\n",
      "(245, '書摘', '你真正應該害怕的是錯過你身邊的人。當你緊盯著手機或平板電腦的時候，這就是你正在錯過的。你可能會錯過你孩子的成長過程。你可能會錯過享受一段親密的婚姻。你可能會錯過充滿意義的深厚友誼。你老是害怕錯過（社交媒體上的）某件事，結果可能會讓你錯過真正最重要的事。', 1, None, 245, 18, '', '', None)\n",
      "(843, '處事原則', '社交高手聊天術：\\r\\n1. 別說「我也是」。 這種「我也是」的回答，是在告訴對方「這件事情沒什麼特別的」，，要問好玩嗎?\\r\\n2. 別只單純地回答別人的問題, 回答沒有的同時, 延續問對方: 那好玩嗎？\\r\\n3. 將對方說的話延展成新話題, 不要只說是噢，要說，我聽說那裏人都很好是真的嗎？延續新的話題\\r\\n4.  不要問是非題，要問申論題。不要問你一定很高興吧？要問那你是什麼心情？\\r\\n5.  順着對方問題提出反問，不要回答我們也是，可以反問那你都會怎麽解決？', 1, None, 843, 843, '', '', None)\n",
      "Final Zip Done: c:\\APN\\DATA\\OneDrive\\BIN\\cls-toolbox\\jupyterNotebook\\out-Myaffermations\\20230709_1746\\affirmationBackup.zip\n",
      "Please copy to Google Drive and Restore!\n"
     ]
    }
   ],
   "source": [
    "#...................................\n",
    "# Step 1: Find String\n",
    "#...................................\n",
    "search_string = input(\"請輸入搜尋字串:\")\n",
    "print(f\"search_string: {search_string}\")\n",
    "match_row_ids = afftbl_find(db_file_path, search_string)\n",
    "print(f\"match_row_ids = {match_row_ids}\")\n",
    "\n",
    "#...................................\n",
    "# Step 2: Select to delete\n",
    "#...................................\n",
    "print(\"請輸入欲刪除的id(用逗號隔開,Enter表示输入完成):\", flush=True)\n",
    "todel_row_ids = input(\"請輸入欲刪除的id(用逗號隔開,Enter表示输入完成):\")\n",
    "print(f\"todel_row_ids: {todel_row_ids}\", flush=True) #debug\n",
    "if todel_row_ids:\n",
    "    todel_row_ids = [ int(x) for x in todel_row_ids.split(\",\")]\n",
    "    todel_row_ids = [ x for x in todel_row_ids if x in match_row_ids]\n",
    "print(f\"todel_row_ids: {todel_row_ids}\", flush=True)\n",
    "\n",
    "#...................................\n",
    "# Step 3: Delete\n",
    "#...................................\n",
    "afftbl_delete(db_file_path, todel_row_ids)\n",
    "print(\"Table after delete:\")\n",
    "afftbl_find(db_file_path, search_string)\n",
    "\n",
    "#...................................\n",
    "# Step 4: compress\n",
    "#...................................\n",
    "compress_to_zip(os.path.join(work_directory,\"My Affirmations\"), target_zip_file)\n",
    "open_directory(work_directory)\n",
    "open_directory(os.path.dirname(src_zip_file))\n",
    "print(f\"Final Zip Done: {target_zip_file}\")\n",
    "print(\"Please copy to Google Drive and Restore!\")\n"
   ]
  }
 ],
 "metadata": {
  "kernelspec": {
   "display_name": "Python 3",
   "language": "python",
   "name": "python3"
  },
  "language_info": {
   "codemirror_mode": {
    "name": "ipython",
    "version": 3
   },
   "file_extension": ".py",
   "mimetype": "text/x-python",
   "name": "python",
   "nbconvert_exporter": "python",
   "pygments_lexer": "ipython3",
   "version": "3.10.10"
  },
  "orig_nbformat": 4
 },
 "nbformat": 4,
 "nbformat_minor": 2
}
