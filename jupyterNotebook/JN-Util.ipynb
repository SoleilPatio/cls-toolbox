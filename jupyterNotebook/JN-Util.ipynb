{
 "cells": [
  {
   "cell_type": "markdown",
   "metadata": {},
   "source": [
    "[Initial Environment]"
   ]
  },
  {
   "cell_type": "code",
   "execution_count": 9,
   "metadata": {},
   "outputs": [],
   "source": [
    "# -*- coding: utf-8 -*-\n",
    "from __future__ import print_function\n",
    "import sys\n",
    "import os\n",
    "sys.path.append(os.path.join(\"..\"))\n",
    "import libPython.core.util"
   ]
  },
  {
   "cell_type": "code",
   "execution_count": 74,
   "metadata": {},
   "outputs": [
    {
     "name": "stdout",
     "output_type": "stream",
     "text": [
      "chcp=['�ѼƮ榡�����T - #�o�R�O��ܪ��P��X�J���G�����L��']\n",
      "sys.stdout.encoding=UTF-8\n",
      "unicode_str_1=a¬正能量\n",
      "unicode_str_2=a¬正能量\n",
      "unicode_byte=['61', 'ac', '6b63', '80fd', '91cf']\n",
      "big5_byte_obj (<class 'bytes'>) = b'a\\xa5\\xbf\\xaf\\xe0\\xb6q'\n",
      "utf8_byte_obj (<class 'bytes'>) = b'a\\xc2\\xac\\xe6\\xad\\xa3\\xe8\\x83\\xbd\\xe9\\x87\\x8f'\n",
      "utf8_str (<class 'str'>) = a¬正能量\n"
     ]
    }
   ],
   "source": [
    "result_chcp = !chcp #這命令顯示的與輸出入似乎完全無關\n",
    "print(f\"chcp={result_chcp}\")\n",
    "\n",
    "#...................................\n",
    "# str 如果是unicode(明碼) or utf-8(編碼有各國字元), print到stdout是cp950(big5)時候，遇到cp950(big5)沒有的字元，會出錯\n",
    "# 結論: 發現sys.stdout.encoding是cp950時候，要注意\n",
    "#...................................\n",
    "print(f\"sys.stdout.encoding={sys.stdout.encoding}\") #current encoding \n",
    "\n",
    "#...................................\n",
    "# 所有python3 寫在source code的 string 都是unicode string , 所謂unicode string就是沒有編碼encode的明碼string\n",
    "# 兩種表示方法: \n",
    "#   1.直接寫號碼\n",
    "#   2.直接寫在source code string\n",
    "#...................................\n",
    "unicode_str_1 = u\"a\\xac\\u6B63\\u80FD\\U000091CF\"\n",
    "unicode_str_2 = \"a¬正能量\"\n",
    "unicode_str_3 = \"a正能量\"\n",
    "print(f\"unicode_str_1={unicode_str_1}\")\n",
    "print(f\"unicode_str_2={unicode_str_2}\")\n",
    "\n",
    "#...................................\n",
    "# str -> unicode 碼\n",
    "# unicode 的打印類似ascii code打印\n",
    "#...................................\n",
    "unicode_byte = [f\"{ord(c):x}\" for c in unicode_str_2]\n",
    "print(f\"unicode_byte={unicode_byte}\")\n",
    "\n",
    "#...................................\n",
    "# 如果明碼str都可以encode成big-5 (¬ : 沒有對應big-5 encoding)\n",
    "#  1. str encode 完變成一種 byte object\n",
    "#  2. 遇到unicode有但是big-5沒有的字元, encode cp950就會失敗\n",
    "#  3. big5編碼跟unicode(明碼)已經不一樣了\n",
    "#...................................\n",
    "big5_byte_obj = unicode_str_3.encode('cp950')\n",
    "print(f\"big5_byte_obj ({type(big5_byte_obj)}) = {big5_byte_obj}\")\n",
    "\n",
    "#...................................\n",
    "# utf8 編碼也跟unicode明碼不一樣\n",
    "#...................................\n",
    "utf8_byte_obj = unicode_str_1.encode('utf-8')\n",
    "print(f\"utf8_byte_obj ({type(utf8_byte_obj)}) = {utf8_byte_obj}\")\n",
    "\n",
    "\n",
    "#...................................\n",
    "# bytes object 可以decode成str回來，如果你知道怎麽encode的話\n",
    "#...................................\n",
    "utf8_str = utf8_byte_obj.decode('utf-8')\n",
    "print(f\"utf8_str ({type(utf8_str)}) = {utf8_str}\")"
   ]
  },
  {
   "cell_type": "code",
   "execution_count": 84,
   "metadata": {},
   "outputs": [
    {
     "data": {
      "text/plain": [
       "'a¬正能量'"
      ]
     },
     "execution_count": 84,
     "metadata": {},
     "output_type": "execute_result"
    }
   ],
   "source": [
    "#...................................\n",
    "# 印出亂碼，解碼還原\n",
    "#...................................\n",
    "byte = b'a\\xc2\\xac\\xe6\\xad\\xa3\\xe8\\x83\\xbd\\xe9\\x87\\x8f'\n",
    "byte.decode(\"utf-8\")"
   ]
  },
  {
   "cell_type": "markdown",
   "metadata": {},
   "source": [
    "[Command] - 基本用法"
   ]
  },
  {
   "cell_type": "code",
   "execution_count": 147,
   "metadata": {},
   "outputs": [
    {
     "name": "stdout",
     "output_type": "stream",
     "text": [
      "[os.system()]\n",
      "0\n",
      "[os.popen()]\n",
      "total 16\n",
      "-rw-r--r-- 1 cloud cloud 3484 Feb 15 21:55 JN-MATLAB.ipynb\n",
      "-rw-r--r-- 1 cloud cloud 4258 Feb 15 21:55 JN-Main.ipynb\n",
      "-rw-r--r-- 1 cloud cloud 3700 Feb 15 22:36 JN-Util.ipynb\n",
      "\n",
      "[subprocess.popen() - Text Mode]\n",
      "total 16\n",
      "-rw-r--r-- 1 cloud cloud 3484 Feb 15 21:55 JN-MATLAB.ipynb\n",
      "-rw-r--r-- 1 cloud cloud 4258 Feb 15 21:55 JN-Main.ipynb\n",
      "-rw-r--r-- 1 cloud cloud 3700 Feb 15 22:36 JN-Util.ipynb\n",
      "\n"
     ]
    }
   ],
   "source": [
    "import os\n",
    "print(\"[os.system()]\")\n",
    "print(os.system(\"ls -l\"))\n",
    "\n",
    "print(\"[os.popen()]\")\n",
    "print(os.popen(\"ls -l\").read())\n",
    "\n",
    "print(\"[subprocess.popen() - Text Mode]\")\n",
    "print(subprocess.Popen(\"ls -l\",stdout=subprocess.PIPE, universal_newlines = True).stdout.read())"
   ]
  },
  {
   "cell_type": "markdown",
   "metadata": {},
   "source": [
    "[Command] - 支援中文"
   ]
  },
  {
   "cell_type": "code",
   "execution_count": 19,
   "metadata": {},
   "outputs": [
    {
     "name": "stdout",
     "output_type": "stream",
     "text": [
      "[os.system()]\n",
      "0\n",
      "[os.popen()]\n",
      "total 20\n",
      "-rw-r--r-- 1 cloud cloud 3484 Feb 15 21:55 JN-MATLAB.ipynb\n",
      "-rw-r--r-- 1 cloud cloud 4258 Feb 15 21:55 JN-Main.ipynb\n",
      "-rw-r--r-- 1 cloud cloud 4654 Mar  2 20:11 JN-Util.ipynb\n",
      "-rw-r--r-- 1 cloud cloud    0 Mar  2 20:01 中文檔名\n",
      "\n",
      "[subprocess.popen() (async)] - universal_newlines default = False\n",
      "total 20\n",
      "-rw-r--r-- 1 cloud cloud 3484 Feb 15 21:55 JN-MATLAB.ipynb\n",
      "-rw-r--r-- 1 cloud cloud 4258 Feb 15 21:55 JN-Main.ipynb\n",
      "-rw-r--r-- 1 cloud cloud 4654 Mar  2 20:11 JN-Util.ipynb\n",
      "-rw-r--r-- 1 cloud cloud    0 Mar  2 20:01 中文檔名\n",
      "\n",
      "[subprocess.run() (sync)] - universal_newlines default = False\n",
      "stdout:\n",
      "total 20\n",
      "-rw-r--r-- 1 cloud cloud 3484 Feb 15 21:55 JN-MATLAB.ipynb\n",
      "-rw-r--r-- 1 cloud cloud 4258 Feb 15 21:55 JN-Main.ipynb\n",
      "-rw-r--r-- 1 cloud cloud 4654 Mar  2 20:11 JN-Util.ipynb\n",
      "-rw-r--r-- 1 cloud cloud    0 Mar  2 20:01 中文檔名\n",
      "\n",
      "stderr:\n",
      "\n",
      "return code:\n",
      "0\n"
     ]
    }
   ],
   "source": [
    "import os\n",
    "print(\"[os.system()]\")\n",
    "print(os.system(\"ls -l\"))\n",
    "\n",
    "print(\"[os.popen()]\")\n",
    "pip = os.popen(\"ls -l\")\n",
    "print(pip.buffer.read().decode(encoding='utf8'))\n",
    "\n",
    "import subprocess\n",
    "print(\"[subprocess.popen() (async)] - universal_newlines default = False\")\n",
    "print(subprocess.Popen(\"ls -l\",stdout=subprocess.PIPE).stdout.read().decode(encoding='utf8'))\n",
    "\n",
    "# ---\n",
    "import shlex\n",
    "print(\"[subprocess.run() (sync)] - universal_newlines default = False\")\n",
    "output=subprocess.run(shlex.split(\"ls -l\"), stdout=subprocess.PIPE, stderr=subprocess.PIPE)\n",
    "print(\"stdout:\\n\" + output.stdout.decode(encoding='utf8'))\n",
    "print(\"stderr:\\n\" + output.stderr.decode(encoding='utf8'))\n",
    "print(\"return code:\\n\" + str(output.returncode))\n"
   ]
  },
  {
   "cell_type": "markdown",
   "metadata": {},
   "source": [
    "[f-string format]"
   ]
  },
  {
   "cell_type": "code",
   "execution_count": 3,
   "metadata": {},
   "outputs": [
    {
     "data": {
      "text/plain": [
       "'123 test'"
      ]
     },
     "execution_count": 3,
     "metadata": {},
     "output_type": "execute_result"
    }
   ],
   "source": [
    "str = \"{var} {var_2}\"\n",
    "str.format(var=123, var_2=\"test\")"
   ]
  },
  {
   "cell_type": "code",
   "execution_count": 71,
   "metadata": {},
   "outputs": [
    {
     "name": "stdout",
     "output_type": "stream",
     "text": [
      "The number is 3.1415926\n",
      "The number is 3.14\n",
      "The number is +3.14\n",
      "The number is 3\n",
      "The number is 003.1\n",
      "The number is 3.100\n",
      "The number is **3.1\n",
      "The number is 3.1**\n",
      "The number is 314.16% 3.14e+00\n",
      "The number is 3,141.5926\n",
      "The number is             3.141593\n",
      "The number is 3.141593            \n",
      "The number is       3.141593      \n",
      "The number is 11111111 255 377 ff\n"
     ]
    }
   ],
   "source": [
    "var = 3.1415926\n",
    "var_int = 255\n",
    "\n",
    "print(f\"The number is {var}\")\n",
    "print(f\"The number is {var:.2f}\")\n",
    "print(f\"The number is {var:+.2f}\")\n",
    "print(f\"The number is {var:.0f}\")\n",
    "print(f\"The number is {var:0>5.1f}\")\n",
    "print(f\"The number is {var:0<5.1f}\")\n",
    "print(f\"The number is {var:*>5.1f}\")\n",
    "print(f\"The number is {var:*<5.1f}\")\n",
    "print(f\"The number is {var:.2%} {var:.2e}\")\n",
    "print(f\"The number is {var*1000:,}\")\n",
    "print(f\"The number is {var:>20f}\")\n",
    "print(f\"The number is {var:<20f}\")\n",
    "print(f\"The number is {var:^20f}\") #置中對齊\n",
    "print(f\"The number is {var_int:b} {var_int:d} {var_int:o} {var_int:x}\") #二進制、十進制、八進制、十六進制"
   ]
  }
 ],
 "metadata": {
  "interpreter": {
   "hash": "03ad6049ce5c3dfaab6edaa45028ebbe90f9a158d5b9c6ce1826b3e2a83f9137"
  },
  "kernelspec": {
   "display_name": "Python 3.8.6 64-bit",
   "name": "python3"
  },
  "language_info": {
   "codemirror_mode": {
    "name": "ipython",
    "version": 3
   },
   "file_extension": ".py",
   "mimetype": "text/x-python",
   "name": "python",
   "nbconvert_exporter": "python",
   "pygments_lexer": "ipython3",
   "version": "3.8.6"
  },
  "metadata": {
   "interpreter": {
    "hash": "03ad6049ce5c3dfaab6edaa45028ebbe90f9a158d5b9c6ce1826b3e2a83f9137"
   }
  },
  "orig_nbformat": 2
 },
 "nbformat": 4,
 "nbformat_minor": 2
}
