{
 "cells": [
  {
   "cell_type": "markdown",
   "metadata": {},
   "source": [
    "[Initial Environment]"
   ]
  },
  {
   "cell_type": "code",
   "execution_count": 9,
   "metadata": {},
   "outputs": [],
   "source": [
    "# -*- coding: utf-8 -*-\n",
    "from __future__ import print_function\n",
    "import sys\n",
    "import os\n",
    "sys.path.append(os.path.join(\"..\"))\n",
    "import libPython.core.util"
   ]
  },
  {
   "cell_type": "markdown",
   "metadata": {},
   "source": [
    "[Command] - 基本用法"
   ]
  },
  {
   "cell_type": "code",
   "execution_count": 147,
   "metadata": {},
   "outputs": [
    {
     "name": "stdout",
     "output_type": "stream",
     "text": [
      "[os.system()]\n",
      "0\n",
      "[os.popen()]\n",
      "total 16\n",
      "-rw-r--r-- 1 cloud cloud 3484 Feb 15 21:55 JN-MATLAB.ipynb\n",
      "-rw-r--r-- 1 cloud cloud 4258 Feb 15 21:55 JN-Main.ipynb\n",
      "-rw-r--r-- 1 cloud cloud 3700 Feb 15 22:36 JN-Util.ipynb\n",
      "\n",
      "[subprocess.popen() - Text Mode]\n",
      "total 16\n",
      "-rw-r--r-- 1 cloud cloud 3484 Feb 15 21:55 JN-MATLAB.ipynb\n",
      "-rw-r--r-- 1 cloud cloud 4258 Feb 15 21:55 JN-Main.ipynb\n",
      "-rw-r--r-- 1 cloud cloud 3700 Feb 15 22:36 JN-Util.ipynb\n",
      "\n"
     ]
    }
   ],
   "source": [
    "import os\n",
    "print(\"[os.system()]\")\n",
    "print(os.system(\"ls -l\"))\n",
    "\n",
    "print(\"[os.popen()]\")\n",
    "print(os.popen(\"ls -l\").read())\n",
    "\n",
    "print(\"[subprocess.popen() - Text Mode]\")\n",
    "print(subprocess.Popen(\"ls -l\",stdout=subprocess.PIPE, universal_newlines = True).stdout.read())"
   ]
  },
  {
   "cell_type": "markdown",
   "metadata": {},
   "source": [
    "[Command] - 支援中文"
   ]
  },
  {
   "cell_type": "code",
   "execution_count": 151,
   "metadata": {},
   "outputs": [
    {
     "name": "stdout",
     "output_type": "stream",
     "text": [
      "[os.system()]\n",
      "0\n",
      "[os.popen()]\n",
      "total 16\n",
      "-rw-r--r-- 1 cloud cloud 3484 Feb 15 21:55 JN-MATLAB.ipynb\n",
      "-rw-r--r-- 1 cloud cloud 4258 Feb 15 21:55 JN-Main.ipynb\n",
      "-rw-r--r-- 1 cloud cloud 3700 Feb 15 22:36 JN-Util.ipynb\n",
      "-rw-r--r-- 1 cloud cloud    0 Feb 15 22:38 中文檔名\n",
      "\n",
      "[subprocess.popen()] - universal_newlines default = False\n",
      "total 16\n",
      "-rw-r--r-- 1 cloud cloud 3484 Feb 15 21:55 JN-MATLAB.ipynb\n",
      "-rw-r--r-- 1 cloud cloud 4258 Feb 15 21:55 JN-Main.ipynb\n",
      "-rw-r--r-- 1 cloud cloud 3700 Feb 15 22:36 JN-Util.ipynb\n",
      "-rw-r--r-- 1 cloud cloud    0 Feb 15 22:38 中文檔名\n",
      "\n"
     ]
    }
   ],
   "source": [
    "import os\n",
    "print(\"[os.system()]\")\n",
    "print(os.system(\"ls -l\"))\n",
    "\n",
    "print(\"[os.popen()]\")\n",
    "pip = os.popen(\"ls -l\")\n",
    "print(pip.buffer.read().decode(encoding='utf8'))\n",
    "\n",
    "import subprocess\n",
    "print(\"[subprocess.popen()] - universal_newlines default = False\")\n",
    "print(subprocess.Popen(\"ls -l\",stdout=subprocess.PIPE).stdout.read().decode(encoding='utf8'))\n"
   ]
  }
 ],
 "metadata": {
  "interpreter": {
   "hash": "03ad6049ce5c3dfaab6edaa45028ebbe90f9a158d5b9c6ce1826b3e2a83f9137"
  },
  "kernelspec": {
   "display_name": "Python 3.8.6 64-bit",
   "name": "python3"
  },
  "language_info": {
   "codemirror_mode": {
    "name": "ipython",
    "version": 3
   },
   "file_extension": ".py",
   "mimetype": "text/x-python",
   "name": "python",
   "nbconvert_exporter": "python",
   "pygments_lexer": "ipython3",
   "version": "3.8.6"
  },
  "metadata": {
   "interpreter": {
    "hash": "03ad6049ce5c3dfaab6edaa45028ebbe90f9a158d5b9c6ce1826b3e2a83f9137"
   }
  },
  "orig_nbformat": 2
 },
 "nbformat": 4,
 "nbformat_minor": 2
}
