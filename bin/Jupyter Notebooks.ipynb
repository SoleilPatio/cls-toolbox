{
 "nbformat": 4,
 "nbformat_minor": 2,
 "metadata": {
  "language_info": {
   "name": "python",
   "codemirror_mode": {
    "name": "ipython",
    "version": 3
   },
   "version": "2.7.17-final"
  },
  "orig_nbformat": 2,
  "file_extension": ".py",
  "mimetype": "text/x-python",
  "name": "python",
  "npconvert_exporter": "python",
  "pygments_lexer": "ipython3",
  "version": 3,
  "kernelspec": {
   "name": "python271764bitd5ebf27714b94e19945c95022dbc4159",
   "display_name": "Python 2.7.17 64-bit"
  }
 },
 "cells": [
  {
   "cell_type": "code",
   "execution_count": 19,
   "metadata": {},
   "outputs": [
    {
     "output_type": "stream",
     "name": "stdout",
     "text": "color = C0\ncolor = C1\ncolor = C2\ncolor = C3\ncolor = C4\ncolor = C5\ncolor = C6\ncolor = C7\ncolor = C8\ncolor = C9\n"
    },
    {
     "output_type": "display_data",
     "data": {
      "image/png": "[encoded data removed]",
      "text/plain": "<Figure size 432x288 with 1 Axes>"
     },
     "metadata": {
      "needs_background": "light"
     }
    },
    {
     "output_type": "stream",
     "name": "stdout",
     "text": "Done!\n"
    }
   ],
   "source": [
    "import matplotlib.pyplot as plt\n",
    "\n",
    "Figure = plt.figure()\n",
    "Figure.clf()\n",
    "axes = Figure.add_subplot(1,1,1)\n",
    "\n",
    "data = range(10)\n",
    "for i in range(10):\n",
    "    print \"color = C%d\"%i\n",
    "    axes.eventplot(data,orientation='vertical',lineoffsets=i+1,linelengths=0.2,\n",
    "                        colors='C{}'.format(i)) #colors='C0','C1','C2',....\n",
    "\n",
    "plt.show()\n",
    "\n",
    "print \"Done!\""
   ]
  },
  {
   "cell_type": "code",
   "execution_count": 69,
   "metadata": {},
   "outputs": [
    {
     "output_type": "stream",
     "name": "stdout",
     "text": "5 5\ncolor = C0\n"
    },
    {
     "output_type": "error",
     "ename": "ValueError",
     "evalue": "colors and positions are unequal sized sequences",
     "traceback": [
      "\u001b[1;31m\u001b[0m",
      "\u001b[1;31mValueError\u001b[0mTraceback (most recent call last)",
      "\u001b[1;32m<ipython-input-69-93ae79da32fe>\u001b[0m in \u001b[0;36m<module>\u001b[1;34m()\u001b[0m\n\u001b[0;32m     12\u001b[0m     \u001b[1;32mprint\u001b[0m \u001b[1;34m\"color = C%d\"\u001b[0m\u001b[1;33m%\u001b[0m\u001b[0mi\u001b[0m\u001b[1;33m\u001b[0m\u001b[0m\n\u001b[0;32m     13\u001b[0m     axes.eventplot(positions=data,orientation='vertical',lineoffsets=i+1,linelengths=0.2,\n\u001b[1;32m---> 14\u001b[1;33m                         colors=colors) #colors='C0','C1','C2',....\n\u001b[0m\u001b[0;32m     15\u001b[0m \u001b[1;33m\u001b[0m\u001b[0m\n\u001b[0;32m     16\u001b[0m     \u001b[1;31m# axes.plot(data,color=\"C5\")\u001b[0m\u001b[1;33m\u001b[0m\u001b[1;33m\u001b[0m\u001b[0m\n",
      "\u001b[1;32mC:\\APN\\DEV\\Python\\Portable Python-2.7.17 x64\\App\\Python\\lib\\site-packages\\matplotlib\\__init__.pyc\u001b[0m in \u001b[0;36minner\u001b[1;34m(ax, *args, **kwargs)\u001b[0m\n\u001b[0;32m   1868\u001b[0m                         \u001b[1;34m\"the Matplotlib list!)\"\u001b[0m \u001b[1;33m%\u001b[0m \u001b[1;33m(\u001b[0m\u001b[0mlabel_namer\u001b[0m\u001b[1;33m,\u001b[0m \u001b[0mfunc\u001b[0m\u001b[1;33m.\u001b[0m\u001b[0m__name__\u001b[0m\u001b[1;33m)\u001b[0m\u001b[1;33m,\u001b[0m\u001b[1;33m\u001b[0m\u001b[0m\n\u001b[0;32m   1869\u001b[0m                         RuntimeWarning, stacklevel=2)\n\u001b[1;32m-> 1870\u001b[1;33m             \u001b[1;32mreturn\u001b[0m \u001b[0mfunc\u001b[0m\u001b[1;33m(\u001b[0m\u001b[0max\u001b[0m\u001b[1;33m,\u001b[0m \u001b[1;33m*\u001b[0m\u001b[0margs\u001b[0m\u001b[1;33m,\u001b[0m \u001b[1;33m**\u001b[0m\u001b[0mkwargs\u001b[0m\u001b[1;33m)\u001b[0m\u001b[1;33m\u001b[0m\u001b[0m\n\u001b[0m\u001b[0;32m   1871\u001b[0m \u001b[1;33m\u001b[0m\u001b[0m\n\u001b[0;32m   1872\u001b[0m         inner.__doc__ = _add_data_doc(inner.__doc__,\n",
      "\u001b[1;32mC:\\APN\\DEV\\Python\\Portable Python-2.7.17 x64\\App\\Python\\lib\\site-packages\\matplotlib\\axes\\_axes.pyc\u001b[0m in \u001b[0;36meventplot\u001b[1;34m(self, positions, orientation, lineoffsets, linelengths, linewidths, colors, linestyles, **kwargs)\u001b[0m\n\u001b[0;32m   1240\u001b[0m                              'sequences')\n\u001b[0;32m   1241\u001b[0m         \u001b[1;32mif\u001b[0m \u001b[0mlen\u001b[0m\u001b[1;33m(\u001b[0m\u001b[0mcolors\u001b[0m\u001b[1;33m)\u001b[0m \u001b[1;33m!=\u001b[0m \u001b[0mlen\u001b[0m\u001b[1;33m(\u001b[0m\u001b[0mpositions\u001b[0m\u001b[1;33m)\u001b[0m\u001b[1;33m:\u001b[0m\u001b[1;33m\u001b[0m\u001b[0m\n\u001b[1;32m-> 1242\u001b[1;33m             raise ValueError('colors and positions are unequal sized '\n\u001b[0m\u001b[0;32m   1243\u001b[0m                              'sequences')\n\u001b[0;32m   1244\u001b[0m         \u001b[1;32mif\u001b[0m \u001b[0mlen\u001b[0m\u001b[1;33m(\u001b[0m\u001b[0mlinestyles\u001b[0m\u001b[1;33m)\u001b[0m \u001b[1;33m!=\u001b[0m \u001b[0mlen\u001b[0m\u001b[1;33m(\u001b[0m\u001b[0mpositions\u001b[0m\u001b[1;33m)\u001b[0m\u001b[1;33m:\u001b[0m\u001b[1;33m\u001b[0m\u001b[0m\n",
      "\u001b[1;31mValueError\u001b[0m: colors and positions are unequal sized sequences"
     ]
    }
   ],
   "source": [
    "import matplotlib.pyplot as plt\n",
    "\n",
    "Figure = plt.figure()\n",
    "Figure.clf()\n",
    "axes = Figure.add_subplot(1,1,1)\n",
    "\n",
    "data = range(5)\n",
    "colors=(\"C0\",\"C1\",\"C2\",\"C3\",\"C4\"]\n",
    "# colors=\"C1\"\n",
    "print len(data),len(colors)\n",
    "for i in range(10):\n",
    "    print \"color = C%d\"%i\n",
    "    axes.eventplot(positions=data,orientation='vertical',lineoffsets=i+1,linelengths=0.2,\n",
    "                        colors=colors) #colors='C0','C1','C2',....\n",
    "\n",
    "    # axes.plot(data,color=\"C5\")\n",
    "\n",
    "plt.show()\n",
    "\n",
    "print \"Done!\""
   ]
  }
 ]
}